{
  "nbformat": 4,
  "nbformat_minor": 0,
  "metadata": {
    "colab": {
      "provenance": [],
      "authorship_tag": "ABX9TyMNYpSbdqZiytrKGx6X0meM",
      "include_colab_link": true
    },
    "kernelspec": {
      "name": "python3",
      "display_name": "Python 3"
    },
    "language_info": {
      "name": "python"
    }
  },
  "cells": [
    {
      "cell_type": "markdown",
      "metadata": {
        "id": "view-in-github",
        "colab_type": "text"
      },
      "source": [
        "<a href=\"https://colab.research.google.com/github/DanielFlorezRamos/actividad-3-000548574.ipynb/blob/main/an%C3%A1lisis.ipynb\" target=\"_parent\"><img src=\"https://colab.research.google.com/assets/colab-badge.svg\" alt=\"Open In Colab\"/></a>"
      ]
    },
    {
      "cell_type": "markdown",
      "source": [
        "problema: Filtrar señales utilizando la función de probabilidad de la campana de Gauss\n",
        "\n",
        "FDP(f, μ, σ):\n",
        "\n",
        "Calcula la función de densidad de probabilidad (FDP) para una distribución normal con los parámetros especificados.\n",
        "Entrada:\n",
        "f: Frecuencia\n",
        "μ: Media\n",
        "σ: Desviación estándar\n",
        "Salida:\n",
        "Valor de la FDP para la frecuencia f\n",
        "FPA(f, μ, σ):\n",
        "\n",
        "Calcula la probabilidad acumulada (FPA) hasta la frecuencia f para una distribución normal con los parámetros especificados.\n",
        "Entrada:\n",
        "\n",
        "f: Frecuencia\n",
        "μ: Media\n",
        "σ: Desviación estándar\n",
        "Salida:\n",
        "Valor de la FPA para la frecuencia f\n",
        "\n",
        "Variables:\n",
        "\n",
        "μ: Media de la distribución normal (valor fijo: 1000)\n",
        "σ: Desviación estándar de la distribución normal (valor fijo: 300)\n",
        "frecuencia: Frecuencia de la señal a filtrar (ingresada por el usuario)\n",
        "resultado: Almacena el resultado del filtrado (\"La señal pasa el filtro\" o \"La señal es bloqueada por el filtro\")\n",
        "respuesta: Almacena la respuesta del usuario a la pregunta \"¿Desea ingresar otra frecuencia?\"\n",
        "\n",
        "\n",
        "Bucle principal:\n",
        "\n",
        "Solicitar la frecuencia al usuario.\n",
        "Calcular la FPA para la frecuencia ingresada.\n",
        "Evaluar la FPA:\n",
        "Si la FPA es mayor o igual al 30%, la señal pasa el filtro.\n",
        "Si la FPA es menor al 30%, la señal es bloqueada por el filtro.\n",
        "Mostrar el resultado del filtrado.\n",
        "Preguntar al usuario si desea ingresar otra frecuencia.\n",
        "Si la respuesta es \"no\", salir del bucle.\n",
        "Si la respuesta es \"si\", repetir el proceso desde el paso 1."
      ],
      "metadata": {
        "id": "5VhuIfc3g4u4"
      }
    }
  ]
}